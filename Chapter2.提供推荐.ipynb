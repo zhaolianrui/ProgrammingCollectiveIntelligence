{
 "cells": [
  {
   "cell_type": "markdown",
   "metadata": {},
   "source": [
    "协作型过滤：我们知道，要想了解商品、影片或娱乐性网站的推荐信息，最没有技术含量的方法莫过于向朋友们询问。我们也知道，这其中有一部分人的品味会比其他人的高一些，通过观察这些人是否通常也和我们一样喜欢同样的东西，可以逐渐对这些情况有所了解。不过随着选择越来越多，要想通过询问一小群人来确定我们想要的东西，将会变得越来越不切实际，因为他们可能并不了解所有的选择。这就是人们为什么要发展出一套被称为协作型过滤的技术。\n",
    "\n",
    "一个协作型过滤算法通常的做法是对一大群人进行搜索，并从中找出与我们品味相近的一小群人。算法会对这些人所偏爱的其他内容进行考察，并将它们组合起来构造出一个经过排名的推荐列表，有许多不同的方法可以帮助我们确定哪些人与自己的品味相近，并将他们的选择组合成列表。\n"
   ]
  },
  {
   "cell_type": "code",
   "execution_count": 2,
   "metadata": {
    "collapsed": false
   },
   "outputs": [],
   "source": [
    "from importlib import reload\n",
    "import recommendations\n",
    "from recommendations import critics"
   ]
  },
  {
   "cell_type": "code",
   "execution_count": 3,
   "metadata": {
    "collapsed": false
   },
   "outputs": [
    {
     "data": {
      "text/plain": [
       "2.5"
      ]
     },
     "execution_count": 3,
     "metadata": {},
     "output_type": "execute_result"
    }
   ],
   "source": [
    "critics['Lisa Rose']['Lady in the Water']"
   ]
  },
  {
   "cell_type": "code",
   "execution_count": 4,
   "metadata": {
    "collapsed": true
   },
   "outputs": [],
   "source": [
    "critics['Toby']['Snakes on a Plane'] = 4.5"
   ]
  },
  {
   "cell_type": "code",
   "execution_count": 5,
   "metadata": {
    "collapsed": false
   },
   "outputs": [
    {
     "data": {
      "text/plain": [
       "{'Snakes on a Plane': 4.5, 'Superman Returns': 4.0, 'You, Me and Dupree': 1.0}"
      ]
     },
     "execution_count": 5,
     "metadata": {},
     "output_type": "execute_result"
    }
   ],
   "source": [
    "critics['Toby']"
   ]
  },
  {
   "cell_type": "markdown",
   "metadata": {},
   "source": [
    "尽管可以将相当数量的人员偏好信息置于字典内（即内存中），但对于一个规模巨大的数据集而言，也许我们还是会希望将其存入数据库中。"
   ]
  },
  {
   "cell_type": "markdown",
   "metadata": {},
   "source": [
    "寻找相近的用户\n",
    "\n",
    "计算相似度评价值的方法：欧几里得距离和皮尔逊相关度"
   ]
  },
  {
   "cell_type": "markdown",
   "metadata": {},
   "source": [
    "欧几里得距离评价"
   ]
  },
  {
   "cell_type": "code",
   "execution_count": 6,
   "metadata": {
    "collapsed": true
   },
   "outputs": [],
   "source": [
    "from math import sqrt"
   ]
  },
  {
   "cell_type": "code",
   "execution_count": 7,
   "metadata": {
    "collapsed": false
   },
   "outputs": [
    {
     "data": {
      "text/plain": [
       "1.118033988749895"
      ]
     },
     "execution_count": 7,
     "metadata": {},
     "output_type": "execute_result"
    }
   ],
   "source": [
    "sqrt(pow(4.5 - 4, 2) + pow(1 - 2, 2))"
   ]
  },
  {
   "cell_type": "markdown",
   "metadata": {},
   "source": [
    "上述算式可以计算出距离值，偏好越相似的人，其距离就越短。此外，我们还需要一个函数，来对偏好越相近的情况给出越大的值。为此，我们可以将函数值加1（这样可以避免遇到被0整除的错误了），并取其倒数。"
   ]
  },
  {
   "cell_type": "code",
   "execution_count": 8,
   "metadata": {
    "collapsed": false
   },
   "outputs": [
    {
     "data": {
      "text/plain": [
       "0.4721359549995794"
      ]
     },
     "execution_count": 8,
     "metadata": {},
     "output_type": "execute_result"
    }
   ],
   "source": [
    "1 / (1 + sqrt(pow(4.5 - 4, 2) + pow(1 - 2, 2)))"
   ]
  },
  {
   "cell_type": "markdown",
   "metadata": {},
   "source": [
    "这一新的函数总是返回介于0到1之间的值，返回1则表示两人具有一样的偏好。"
   ]
  },
  {
   "cell_type": "code",
   "execution_count": 10,
   "metadata": {
    "collapsed": false
   },
   "outputs": [
    {
     "data": {
      "text/plain": [
       "0.29429805508554946"
      ]
     },
     "execution_count": 10,
     "metadata": {},
     "output_type": "execute_result"
    }
   ],
   "source": [
    "from recommendations import sim_distance\n",
    "sim_distance(critics, 'Lisa Rose', 'Gene Seymour')"
   ]
  },
  {
   "cell_type": "markdown",
   "metadata": {},
   "source": [
    "上述执行过程给出了Lisa Rose和Gene Seymour之间的相似度评价。请用其他人的名字试试，看看我们是否能够找到或多或少具有一定共性的人。"
   ]
  },
  {
   "cell_type": "code",
   "execution_count": 11,
   "metadata": {
    "collapsed": false
   },
   "outputs": [
    {
     "name": "stdout",
     "output_type": "stream",
     "text": [
      "The distance between Jack Matthews and Claudia Puig is: 0.32037724101704074\n",
      "The distance between Jack Matthews and Toby is: 0.2674788903885893\n",
      "The distance between Jack Matthews and Mick LaSalle is: 0.2857142857142857\n",
      "The distance between Jack Matthews and Gene Seymour is: 0.6666666666666666\n",
      "The distance between Jack Matthews and Michael Phillips is: 0.29429805508554946\n",
      "The distance between Jack Matthews and Lisa Rose is: 0.3405424265831667\n",
      "The distance between Claudia Puig and Toby is: 0.3567891723253309\n",
      "The distance between Claudia Puig and Mick LaSalle is: 0.31451985913875646\n",
      "The distance between Claudia Puig and Gene Seymour is: 0.28172904669025317\n",
      "The distance between Claudia Puig and Michael Phillips is: 0.585786437626905\n",
      "The distance between Claudia Puig and Lisa Rose is: 0.38742588672279304\n",
      "The distance between Toby and Mick LaSalle is: 0.4\n",
      "The distance between Toby and Gene Seymour is: 0.25824569976124334\n",
      "The distance between Toby and Michael Phillips is: 0.38742588672279304\n",
      "The distance between Toby and Lisa Rose is: 0.3483314773547883\n",
      "The distance between Mick LaSalle and Gene Seymour is: 0.27792629762666365\n",
      "The distance between Mick LaSalle and Michael Phillips is: 0.3405424265831667\n",
      "The distance between Mick LaSalle and Lisa Rose is: 0.4142135623730951\n",
      "The distance between Gene Seymour and Michael Phillips is: 0.3090169943749474\n",
      "The distance between Gene Seymour and Lisa Rose is: 0.29429805508554946\n",
      "The distance between Michael Phillips and Lisa Rose is: 0.38742588672279304\n"
     ]
    }
   ],
   "source": [
    "p=[]\n",
    "for p1 in critics.keys():\n",
    "    for p2 in critics.keys():\n",
    "        if p1 != p2 and p2 not in p:\n",
    "            print(\"The distance between \" + p1 + ' and ' + p2 +  ' is: ' + str(sim_distance(critics, p1,p2)))\n",
    "        p.append(p1)"
   ]
  },
  {
   "cell_type": "markdown",
   "metadata": {},
   "source": [
    "皮尔逊相关度评价（判断两组数的线性关系程度）\n",
    "\n",
    "除了欧几里得距离，还有一种更复杂一些的方法可以用来判断人们兴趣的相似度，那就是皮尔逊相关系数。该相关系数是判断两组数据与某一直线拟合程度的一种度量。对应的公式要比欧几里得距离评价的计算公式要复杂，但是它在数据不是很规范（normalized）的时候（比如，影评者对影片的评价总是相对于平均水平偏离很大时），会倾向于给出更好的结果。在采用皮尔逊方法进行评价时，它可以修正“夸大分值”的情况。如果某人总是倾向于给出比另一个人更高的比值，而二者的分值之差又始终保持一致，则他们依然可能会存在很好的相关性。此前提到的欧几里得距离评价方法，会因为一个人的评价始终比另一个人的更为“严格”（从而导致评价始终相对偏低），而得出两者不相近的结论，即使他们的品味很相似也是如此，而这一行为是否就是我们想要的结果 ，则取决于具体的应用场景。\n",
    "\n",
    "假设有两个变量X、Y，那么两变量间的皮尔逊相关系数可通过以下公式计算：\n",
    "\n",
    "公式一：\n",
    "<img src=\"imgs/皮尔逊相关系数1.gif\">\n",
    "\n",
    "公式二：\n",
    "<img src=\"imgs/皮尔逊相关系数2.gif\">\n",
    "\n",
    "公式三：\n",
    "<img src=\"imgs/皮尔逊相关系数3.gif\">\n",
    "\n",
    "公式四：\n",
    "<img src=\"imgs/皮尔逊相关系数4.gif\">\n",
    "\n",
    "以上列出的四个公式等价，其中E是数学期望，cov表示协方差，N表示变量取值的个数。\n",
    " \n",
    "皮尔逊相关度评价算法首先会找出两位评论者都曾评论过的物品，然后计算两者的评分总和与平方和，并求得评分的乘积之和。利用上面的公式四计算出皮尔逊相关系数。"
   ]
  },
  {
   "cell_type": "code",
   "execution_count": 27,
   "metadata": {
    "collapsed": false
   },
   "outputs": [],
   "source": [
    "reload(recommendations)\n",
    "from recommendations import sim_pearson"
   ]
  },
  {
   "cell_type": "code",
   "execution_count": 28,
   "metadata": {
    "collapsed": false
   },
   "outputs": [
    {
     "name": "stdout",
     "output_type": "stream",
     "text": [
      "18.0\n",
      "19.5\n",
      "55.0\n",
      "69.75\n",
      "59.5\n"
     ]
    },
    {
     "data": {
      "text/plain": [
       "0.39605901719066977"
      ]
     },
     "execution_count": 28,
     "metadata": {},
     "output_type": "execute_result"
    }
   ],
   "source": [
    "sim_pearson(critics, 'Lisa Rose', 'Gene Seymour')"
   ]
  },
  {
   "cell_type": "markdown",
   "metadata": {},
   "source": [
    "该函数返回一个介于-1与1之间的数值。值为1则表明两个人对每一样物品均有着完全一致的评价。与距离度量法不同，此处我们无须为达到正确的比率而对这一数值进行变换。"
   ]
  },
  {
   "cell_type": "markdown",
   "metadata": {},
   "source": [
    "扩展：按照高中数学水平来理解, 皮尔逊相关系数, 可以看做将两组数据首先做Z分数处理之后, 然后两组数据的乘积和除以样本数，Z分数一般代表正态分布中, 数据偏离中心点的距离.等于变量减掉平均数再除以标准差.z分数（z-score）,也叫标准分数（standard score）是一个数与平均数的差再除以标准差的过程。\n",
    "\n",
    "z分数可以回答这样一个问题：\"一个给定分数距离平均数多少个标准差?\"在平均数之上的分数会得到一个正的标准分数，在平均数之下的分数会得到一个负的标准分数。　z分数是一种可以看出某分数在分布中相对位置的方法。z分数能够真实的反应一个分数距离平均数的相对标准距离。如果我们把每一个分数都转换成z分数，那么每一个z分数会以标准差为单位表示一个具体分数到平均数的距离或离差。将成正态分布的数据中的原始分数转换为z分数，我们就可以通过查阅z分数在正态曲线下面积的表格来得知平均数与z分数之间的面积，进而得知原始分数在数据集合中的百分等级。一个数列的各z分数的平方和等于该数列数据的个数，并且z分数的标准差和方差都为1.平均数为0.\n",
    "\n",
    "<img src=\"imgs/Z分数.png\">"
   ]
  },
  {
   "cell_type": "markdown",
   "metadata": {},
   "source": [
    "应该选用哪一种相似性度量方法，完全取决于具体的应用。如果你想看看哪种方法能够获得更好的实际效果，皮尔逊、欧几里得距离或者其他方法，都是值得一试的。"
   ]
  },
  {
   "cell_type": "markdown",
   "metadata": {},
   "source": [
    "为评论者打分\n",
    "\n",
    "调用该方法并传入自己的姓名，将得到一个有关影评者及其相似度评价的列表。"
   ]
  },
  {
   "cell_type": "code",
   "execution_count": 32,
   "metadata": {
    "collapsed": false
   },
   "outputs": [
    {
     "data": {
      "text/plain": [
       "[(0.9912407071619299, 'Lisa Rose'),\n",
       " (0.9244734516419049, 'Mick LaSalle'),\n",
       " (0.8934051474415647, 'Claudia Puig')]"
      ]
     },
     "execution_count": 32,
     "metadata": {},
     "output_type": "execute_result"
    }
   ],
   "source": [
    "reload(recommendations)\n",
    "recommendations.topMatches(critics, 'Toby', n=3)"
   ]
  },
  {
   "cell_type": "markdown",
   "metadata": {},
   "source": [
    "根据返回的结果我们了解到，应当阅读Lisa Rose所撰写的评论，因为她的品味与我们的很相近。如果你看过这些电影，也不妨将自己的偏好信息加入字典中，然后看看谁是你最喜欢的评论者。"
   ]
  },
  {
   "cell_type": "markdown",
   "metadata": {},
   "source": [
    "推荐物品"
   ]
  },
  {
   "cell_type": "code",
   "execution_count": 35,
   "metadata": {
    "collapsed": false
   },
   "outputs": [
    {
     "data": {
      "text/plain": [
       "[(3.3477895267131013, 'The Night Listener'),\n",
       " (2.832549918264162, 'Lady in the Water'),\n",
       " (2.5309807037655645, 'Just My Luck')]"
      ]
     },
     "execution_count": 35,
     "metadata": {},
     "output_type": "execute_result"
    }
   ],
   "source": [
    "reload(recommendations)\n",
    "recommendations.getRecommendations(critics, 'Toby')"
   ]
  },
  {
   "cell_type": "code",
   "execution_count": 36,
   "metadata": {
    "collapsed": false
   },
   "outputs": [
    {
     "data": {
      "text/plain": [
       "[(3.5531083380650106, 'The Night Listener'),\n",
       " (2.7785840038149234, 'Lady in the Water'),\n",
       " (2.422482042361917, 'Just My Luck')]"
      ]
     },
     "execution_count": 36,
     "metadata": {},
     "output_type": "execute_result"
    }
   ],
   "source": [
    "recommendations.getRecommendations(critics, 'Toby', similarity=sim_distance)"
   ]
  },
  {
   "cell_type": "markdown",
   "metadata": {},
   "source": [
    "匹配商品\n",
    "\n",
    "现在我们已经知道了如何为指定人员寻找品味相近者，以及如何向其推荐商品的方法，现在来了解哪些商品是彼此相近的。在这种情况下，我们可以通过查看哪些人喜欢某一特定物品，以及这些人喜欢哪些其他物品来决定相似度。事实上这和我们此前用来决定人与人之间相似度的方法是一样的，只需将人员与物品兑换即可。"
   ]
  },
  {
   "cell_type": "code",
   "execution_count": 38,
   "metadata": {
    "collapsed": false
   },
   "outputs": [],
   "source": [
    "reload(recommendations)\n",
    "movies = recommendations.transformPrefs(critics)"
   ]
  },
  {
   "cell_type": "code",
   "execution_count": 39,
   "metadata": {
    "collapsed": false
   },
   "outputs": [
    {
     "data": {
      "text/plain": [
       "{'Just My Luck': {'Claudia Puig': 3.0,\n",
       "  'Gene Seymour': 1.5,\n",
       "  'Lisa Rose': 3.0,\n",
       "  'Mick LaSalle': 2.0},\n",
       " 'Lady in the Water': {'Gene Seymour': 3.0,\n",
       "  'Jack Matthews': 3.0,\n",
       "  'Lisa Rose': 2.5,\n",
       "  'Michael Phillips': 2.5,\n",
       "  'Mick LaSalle': 3.0},\n",
       " 'Snakes on a Plane': {'Claudia Puig': 3.5,\n",
       "  'Gene Seymour': 3.5,\n",
       "  'Jack Matthews': 4.0,\n",
       "  'Lisa Rose': 3.5,\n",
       "  'Michael Phillips': 3.0,\n",
       "  'Mick LaSalle': 4.0,\n",
       "  'Toby': 4.5},\n",
       " 'Superman Returns': {'Claudia Puig': 4.0,\n",
       "  'Gene Seymour': 5.0,\n",
       "  'Jack Matthews': 5.0,\n",
       "  'Lisa Rose': 3.5,\n",
       "  'Michael Phillips': 3.5,\n",
       "  'Mick LaSalle': 3.0,\n",
       "  'Toby': 4.0},\n",
       " 'The Night Listener': {'Claudia Puig': 4.5,\n",
       "  'Gene Seymour': 3.0,\n",
       "  'Jack Matthews': 3.0,\n",
       "  'Lisa Rose': 3.0,\n",
       "  'Michael Phillips': 4.5,\n",
       "  'Mick LaSalle': 3.0},\n",
       " 'You, Me and Dupree': {'Claudia Puig': 2.5,\n",
       "  'Gene Seymour': 3.5,\n",
       "  'Jack Matthews': 3.5,\n",
       "  'Lisa Rose': 2.5,\n",
       "  'Mick LaSalle': 2.0,\n",
       "  'Toby': 1.0}}"
      ]
     },
     "execution_count": 39,
     "metadata": {},
     "output_type": "execute_result"
    }
   ],
   "source": [
    "movies"
   ]
  },
  {
   "cell_type": "code",
   "execution_count": 40,
   "metadata": {
    "collapsed": false
   },
   "outputs": [
    {
     "data": {
      "text/plain": [
       "[(0.6579516949597695, 'You, Me and Dupree'),\n",
       " (0.4879500364742689, 'Lady in the Water'),\n",
       " (0.11180339887498941, 'Snakes on a Plane'),\n",
       " (-0.23145502494313785, 'The Night Listener'),\n",
       " (-0.42289003161103106, 'Just My Luck')]"
      ]
     },
     "execution_count": 40,
     "metadata": {},
     "output_type": "execute_result"
    }
   ],
   "source": [
    "recommendations.topMatches(movies, 'Superman Returns')"
   ]
  },
  {
   "cell_type": "markdown",
   "metadata": {},
   "source": [
    "请注意，在本例中实际存在着一些相关评价值为负的情况，这表明那些喜欢影片Superman Returns的人存在不喜欢Just My Luck的倾向。\n",
    "\n",
    "上面我们示范了为某部影片提供相关影片的推荐，不仅如此，我们甚至还可以为影片推荐评论者。例如，也许我们正在考虑邀请谁和自己一起参加某部影片的首映式。"
   ]
  },
  {
   "cell_type": "code",
   "execution_count": 41,
   "metadata": {
    "collapsed": false
   },
   "outputs": [
    {
     "data": {
      "text/plain": [
       "[(4.5, 'Michael Phillips'), (3.0, 'Jack Matthews')]"
      ]
     },
     "execution_count": 41,
     "metadata": {},
     "output_type": "execute_result"
    }
   ],
   "source": [
    "recommendations.getRecommendations(movies, 'Just My Luck')"
   ]
  },
  {
   "cell_type": "markdown",
   "metadata": {},
   "source": [
    "将人和物对调并不总是会得到有价值的结果，但是大多数情况下，这将有助于我们做出有意义的对比。为了向不同的个体推荐商品，在线零售商可能会收集人们的购买历史。将商品与人进行对调--正如我们此前所作的那样--可以令零售商找到购买某些商品的潜在客户。这对于他们为了清仓处理某些商品而在市场营销投入方面制定的规划，也许是很有助益的。这种做法的另一个潜在用途是，在专门推荐链接的网站上，这样做可以确保新出现的链接，能够被那些最有可能对它产生兴趣的网站用户找到。"
   ]
  },
  {
   "cell_type": "markdown",
   "metadata": {},
   "source": [
    "构建一个基于del.icio.us的链接推荐系统"
   ]
  }
 ],
 "metadata": {
  "kernelspec": {
   "display_name": "Python 3",
   "language": "python",
   "name": "python3"
  },
  "language_info": {
   "codemirror_mode": {
    "name": "ipython",
    "version": 3
   },
   "file_extension": ".py",
   "mimetype": "text/x-python",
   "name": "python",
   "nbconvert_exporter": "python",
   "pygments_lexer": "ipython3",
   "version": "3.5.1"
  }
 },
 "nbformat": 4,
 "nbformat_minor": 0
}
